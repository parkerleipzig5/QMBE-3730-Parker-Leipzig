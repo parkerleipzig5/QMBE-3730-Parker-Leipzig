{
  "nbformat": 4,
  "nbformat_minor": 0,
  "metadata": {
    "colab": {
      "provenance": [],
      "authorship_tag": "ABX9TyOEIj6u5Zxy7bsrNEax9kdw"
    },
    "kernelspec": {
      "name": "python3",
      "display_name": "Python 3"
    },
    "language_info": {
      "name": "python"
    }
  },
  "cells": [
    {
      "cell_type": "code",
      "source": [
        "#opening the file\n",
        "import pandas as pd\n",
        "\n",
        "df = pd.read_csv(\"/content/netflix_titles.csv\")\n",
        "df.head()"
      ],
      "metadata": {
        "id": "UAc7dZIbE85I"
      },
      "execution_count": null,
      "outputs": []
    },
    {
      "cell_type": "code",
      "source": [
        "#shows what kind of data each column is\n",
        "print(\"Data Types of Each Column:\\n\")\n",
        "print(df.dtypes)"
      ],
      "metadata": {
        "id": "oYf26rbKK5ie"
      },
      "execution_count": null,
      "outputs": []
    },
    {
      "cell_type": "code",
      "source": [
        "#column headers\n",
        "print(df.columns.tolist())"
      ],
      "metadata": {
        "id": "zTXR2bBCHb6h"
      },
      "execution_count": null,
      "outputs": []
    },
    {
      "cell_type": "code",
      "source": [
        "#missing values in each column\n",
        "missing_data = df.isnull().sum()\n",
        "print(missing_data)"
      ],
      "metadata": {
        "id": "CjrtCi8tG-6i"
      },
      "execution_count": null,
      "outputs": []
    },
    {
      "cell_type": "code",
      "source": [
        "#Show how many total unique data points there are in the Titles, Directors, and Release Year columns\n",
        "print(\"\\nUnique Counts:\")\n",
        "print(f\"Total Titles: {df['show_id'].nunique()}\")\n",
        "print(f\"Total Directors: {df['director'].nunique()}\")\n",
        "print(f\"Total Release Years: {df['release_year'].nunique()}\")"
      ],
      "metadata": {
        "colab": {
          "base_uri": "https://localhost:8080/"
        },
        "id": "CTF2VZX0JcL2",
        "outputId": "1ec2b0b3-1115-428d-e893-2553b850f364"
      },
      "execution_count": 38,
      "outputs": [
        {
          "output_type": "stream",
          "name": "stdout",
          "text": [
            "\n",
            "Unique Counts:\n",
            "Total Titles: 8807\n",
            "Total Directors: 4528\n",
            "Total Release Years: 74\n"
          ]
        }
      ]
    },
    {
      "cell_type": "code",
      "source": [
        "#shows how many films each director has produced\n",
        "films_per_director = df['director'].value_counts()\n",
        "print(\"Number of Films per Director:\\n\")\n",
        "print(films_per_director)"
      ],
      "metadata": {
        "id": "R-ovpIE-KtR6"
      },
      "execution_count": null,
      "outputs": []
    },
    {
      "cell_type": "code",
      "source": [
        "#shows how many films there are for each rating type... after running you can see that some data is in the wrong spot\n",
        "films_per_rating = df['rating'].value_counts()\n",
        "print(\"Number of Films per TV Rating:\\n\")\n",
        "print(films_per_rating)"
      ],
      "metadata": {
        "id": "SOQ3D-ngLflc"
      },
      "execution_count": null,
      "outputs": []
    }
  ]
}