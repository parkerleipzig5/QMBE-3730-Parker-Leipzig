{
  "nbformat": 4,
  "nbformat_minor": 0,
  "metadata": {
    "colab": {
      "provenance": [],
      "authorship_tag": "ABX9TyOKhf2BpHNollo7NMtIThLV",
      "include_colab_link": true
    },
    "kernelspec": {
      "name": "python3",
      "display_name": "Python 3"
    },
    "language_info": {
      "name": "python"
    }
  },
  "cells": [
    {
      "cell_type": "markdown",
      "metadata": {
        "id": "view-in-github",
        "colab_type": "text"
      },
      "source": [
        "<a href=\"https://colab.research.google.com/github/parkerleipzig5/QMBE-3750-Parker-Leipzig/blob/main/QMBE3730_Assignment_0.ipynb\" target=\"_parent\"><img src=\"https://colab.research.google.com/assets/colab-badge.svg\" alt=\"Open In Colab\"/></a>"
      ]
    },
    {
      "cell_type": "code",
      "source": [
        "from google.colab import drive\n",
        "drive.mount(\"/content/drive\")"
      ],
      "metadata": {
        "colab": {
          "base_uri": "https://localhost:8080/"
        },
        "id": "3QxITBN6Gnmr",
        "outputId": "757ae724-7ff1-4c25-911f-c538b6aa4ea5"
      },
      "execution_count": null,
      "outputs": [
        {
          "output_type": "stream",
          "name": "stdout",
          "text": [
            "Mounted at /content/drive\n"
          ]
        }
      ]
    },
    {
      "cell_type": "code",
      "source": [
        "import pandas as pd\n",
        "\n",
        "#opening the file\n",
        "df = pd.read_csv(\"/content/netflix_titles.csv\")\n",
        "df.head()"
      ],
      "metadata": {
        "id": "UAc7dZIbE85I"
      },
      "execution_count": null,
      "outputs": []
    },
    {
      "cell_type": "code",
      "source": [
        "print(\"Data Types of Each Column:\\n\")\n",
        "print(df.dtypes)"
      ],
      "metadata": {
        "id": "oYf26rbKK5ie"
      },
      "execution_count": null,
      "outputs": []
    },
    {
      "cell_type": "code",
      "source": [
        "#column headers\n",
        "print(df.columns.tolist())"
      ],
      "metadata": {
        "id": "zTXR2bBCHb6h"
      },
      "execution_count": null,
      "outputs": []
    },
    {
      "cell_type": "code",
      "source": [
        "#missing values in each column\n",
        "missing_data = df.isnull().sum()\n",
        "print(missing_data)"
      ],
      "metadata": {
        "id": "CjrtCi8tG-6i"
      },
      "execution_count": null,
      "outputs": []
    },
    {
      "cell_type": "code",
      "source": [
        "print(\"\\nUnique Counts:\")\n",
        "print(f\"Total Titles: {df['show_id'].nunique()}\")\n",
        "print(f\"Total Directors: {df['director'].nunique()}\")\n",
        "print(f\"Total Release Years: {df['release_year'].nunique()}\")"
      ],
      "metadata": {
        "id": "CTF2VZX0JcL2"
      },
      "execution_count": null,
      "outputs": []
    },
    {
      "cell_type": "code",
      "source": [
        "films_per_director = df['director'].value_counts()\n",
        "print(\"Number of Films per Director:\\n\")\n",
        "print(films_per_director)"
      ],
      "metadata": {
        "id": "R-ovpIE-KtR6"
      },
      "execution_count": null,
      "outputs": []
    },
    {
      "cell_type": "code",
      "source": [
        "films_per_rating = df['rating'].value_counts()\n",
        "print(\"Number of Films per TV Rating:\\n\")\n",
        "print(films_per_rating)"
      ],
      "metadata": {
        "id": "SOQ3D-ngLflc"
      },
      "execution_count": null,
      "outputs": []
    }
  ]
}